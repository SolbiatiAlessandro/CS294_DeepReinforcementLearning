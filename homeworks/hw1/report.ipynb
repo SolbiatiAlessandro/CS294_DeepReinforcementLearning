{
 "cells": [
  {
   "cell_type": "markdown",
   "metadata": {},
   "source": [
    "HW1 solution\n",
    "======"
   ]
  },
  {
   "cell_type": "markdown",
   "metadata": {},
   "source": [
    "## Behavioural cloning\n",
    "\n",
    "TODO:\n",
    "----\n",
    "1. generate rollouts\n",
    "This are sequences of the type expertSequence#1 = {s0 -> a0, s1 -> a1, s2 -> a3} done with the expert policy\n",
    "<br>\n",
    "\n",
    "- expert_data/something.pkl\n",
    "- big number -> 18101\n",
    "- observations.shape = (big number, 44)\n",
    "- actions.shape = (big number, 17)\n",
    "- returns.shape = (20, )\n",
    "<br>\n",
    "----\n",
    "2. implement behavioural cloning\n",
    "implement a neural net of the sort F(s) = a trained on all the expertSequence. Then create a policy using the neural net"
   ]
  },
  {
   "cell_type": "code",
   "execution_count": 4,
   "metadata": {},
   "outputs": [],
   "source": [
    "import pickle as pk"
   ]
  },
  {
   "cell_type": "code",
   "execution_count": 5,
   "metadata": {},
   "outputs": [],
   "source": [
    "expert_rollouts = pk.load(open(\"expert_data/RoboschoolHumanoid-v1.pkl\",\"rb\"))"
   ]
  },
  {
   "cell_type": "code",
   "execution_count": 6,
   "metadata": {},
   "outputs": [
    {
     "data": {
      "text/plain": [
       "{'observations': array([[ 2.3841858e-08,  1.6552746e-02,  9.9986297e-01, ...,\n",
       "          0.0000000e+00,  0.0000000e+00,  0.0000000e+00],\n",
       "        [-1.2368917e-03,  1.5588514e-02,  9.9987847e-01, ...,\n",
       "         -1.0157478e+00,  0.0000000e+00,  0.0000000e+00],\n",
       "        [-6.5931440e-03, -5.2741389e-03,  9.9998611e-01, ...,\n",
       "         -1.2476940e+00,  0.0000000e+00,  0.0000000e+00],\n",
       "        ...,\n",
       "        [-5.0809860e-01, -7.2747171e-01,  6.8613768e-01, ...,\n",
       "          3.3137280e-01,  0.0000000e+00,  0.0000000e+00],\n",
       "        [-5.4866636e-01, -7.2792214e-01,  6.8565977e-01, ...,\n",
       "          7.0388418e-01,  0.0000000e+00,  0.0000000e+00],\n",
       "        [-5.8901018e-01, -7.1578425e-01,  6.9832152e-01, ...,\n",
       "          1.0054688e+00,  0.0000000e+00,  0.0000000e+00]], dtype=float32),\n",
       " 'actions': array([[-0.15107152,  0.58659674,  0.59263927, ..., -0.66633345,\n",
       "          0.03384994, -0.59625398],\n",
       "        [-0.73595452,  0.18238143,  0.08968246, ..., -0.51464446,\n",
       "         -0.03982098, -0.08909495],\n",
       "        [ 0.10705708,  0.13724605,  0.31601926, ..., -0.75360687,\n",
       "          0.19295576,  0.15175782],\n",
       "        ...,\n",
       "        [ 1.09383687,  0.04449134, -1.27794357, ..., -0.35660698,\n",
       "         -0.42656005,  0.20967233],\n",
       "        [ 0.75262845, -0.27134763, -0.78613502, ..., -0.83031222,\n",
       "         -0.65078072,  0.18467634],\n",
       "        [ 0.22040234, -0.09456456, -0.44929374, ..., -0.77683959,\n",
       "         -0.39423312, -0.15837564]]),\n",
       " 'returns': array([3264.90898963, 3154.25776856, 3242.81919569, 3197.62056642,\n",
       "        3268.55233359,   78.63302157, 3232.21568638, 3211.64560207,\n",
       "        3213.60403909, 3209.29492045, 3083.02851286, 3220.64197065,\n",
       "        3256.17943683, 3252.08803672, 3248.33400332, 3142.32376785,\n",
       "        3229.50306318, 3215.79376872, 3241.91061195,  -24.46481037])}"
      ]
     },
     "execution_count": 6,
     "metadata": {},
     "output_type": "execute_result"
    }
   ],
   "source": [
    "expert_rollouts"
   ]
  },
  {
   "cell_type": "code",
   "execution_count": 7,
   "metadata": {},
   "outputs": [
    {
     "data": {
      "text/plain": [
       "(18101, 44)"
      ]
     },
     "execution_count": 7,
     "metadata": {},
     "output_type": "execute_result"
    }
   ],
   "source": [
    "expert_rollouts['observations'].shape"
   ]
  },
  {
   "cell_type": "code",
   "execution_count": 8,
   "metadata": {},
   "outputs": [
    {
     "data": {
      "text/plain": [
       "(18101, 17)"
      ]
     },
     "execution_count": 8,
     "metadata": {},
     "output_type": "execute_result"
    }
   ],
   "source": [
    "expert_rollouts['actions'].shape"
   ]
  },
  {
   "cell_type": "code",
   "execution_count": 9,
   "metadata": {},
   "outputs": [
    {
     "data": {
      "text/plain": [
       "(20,)"
      ]
     },
     "execution_count": 9,
     "metadata": {},
     "output_type": "execute_result"
    }
   ],
   "source": [
    "expert_rollouts['returns'].shape"
   ]
  },
  {
   "cell_type": "code",
   "execution_count": 20,
   "metadata": {},
   "outputs": [],
   "source": [
    "inputs = expert_rollouts['observations']\n",
    "outputs = expert_rollouts['actions']"
   ]
  },
  {
   "cell_type": "markdown",
   "metadata": {},
   "source": [
    "model\n",
    "========"
   ]
  },
  {
   "cell_type": "code",
   "execution_count": 18,
   "metadata": {},
   "outputs": [],
   "source": [
    "import tensorflow as tf\n",
    "import numpy as np"
   ]
  },
  {
   "cell_type": "code",
   "execution_count": 12,
   "metadata": {},
   "outputs": [],
   "source": [
    "def tf_reset():\n",
    "    try:\n",
    "        sess.close()\n",
    "    except:\n",
    "        pass\n",
    "    tf.reset_default_graph()\n",
    "    return tf.Session()"
   ]
  },
  {
   "cell_type": "code",
   "execution_count": 13,
   "metadata": {},
   "outputs": [],
   "source": [
    "sess = tf_reset()\n",
    "def create_model():\n",
    "    input_ph = tf.placeholder(dtype=tf.float32, shape=[None, 44]) # [None, 1] is because is 1D array\n",
    "    output_ph = tf.placeholder(dtype=tf.float32, shape=[None, 17])\n",
    "    \n",
    "    W0 = tf.get_variable(name='W0', shape=[44, 30], initializer = tf.contrib.layers.variance_scaling_initializer())\n",
    "    W1 = tf.get_variable(name='W1', shape=[30, 23], initializer = tf.contrib.layers.variance_scaling_initializer())\n",
    "    W2 = tf.get_variable(name='W2', shape=[23, 17], initializer = tf.contrib.layers.variance_scaling_initializer())\n",
    "    \n",
    "    \n",
    "    b0 = tf.get_variable(name='b0', shape=[30], initializer = tf.constant_initializer(0))\n",
    "    b1 = tf.get_variable(name='b1', shape=[23], initializer = tf.constant_initializer(0))\n",
    "    b2 = tf.get_variable(name='b2', shape=[17], initializer = tf.constant_initializer(0))\n",
    "    \n",
    "    weights = [W0, W1, W2]\n",
    "    biases = [b0, b1, b2]\n",
    "    activations = [tf.nn.relu, tf.nn.relu, None]\n",
    "    \n",
    "    layer = input_ph\n",
    "    for W, b, activation in zip(weights, biases, activations):\n",
    "        layer = tf.matmul(layer, W) + b\n",
    "        if activation is not None:\n",
    "            layer = activation(layer)\n",
    "            \n",
    "    output_pred = layer\n",
    "    return input_ph, output_ph, output_pred"
   ]
  },
  {
   "cell_type": "code",
   "execution_count": 14,
   "metadata": {},
   "outputs": [
    {
     "name": "stdout",
     "output_type": "stream",
     "text": [
      "\n",
      "WARNING: The TensorFlow contrib module will not be included in TensorFlow 2.0.\n",
      "For more information, please see:\n",
      "  * https://github.com/tensorflow/community/blob/master/rfcs/20180907-contrib-sunset.md\n",
      "  * https://github.com/tensorflow/addons\n",
      "If you depend on functionality not listed there, please file an issue.\n",
      "\n",
      "WARNING:tensorflow:From /Users/lessandro/Coding/AI/CS294/roboschool_homework/hw1/venv/lib/python3.6/site-packages/tensorflow/python/framework/op_def_library.py:263: colocate_with (from tensorflow.python.framework.ops) is deprecated and will be removed in a future version.\n",
      "Instructions for updating:\n",
      "Colocations handled automatically by placer.\n"
     ]
    }
   ],
   "source": [
    "input_ph, output_ph, output_pred = create_model()"
   ]
  },
  {
   "cell_type": "code",
   "execution_count": 15,
   "metadata": {},
   "outputs": [],
   "source": [
    "mse = tf.reduce_mean(0.5 * tf.square(output_pred - output_ph)) # this is the mean square error\n",
    "opt = tf.train.AdamOptimizer().minimize(mse) # this is an operation that pereform gradient descent"
   ]
  },
  {
   "cell_type": "code",
   "execution_count": 16,
   "metadata": {},
   "outputs": [],
   "source": [
    "sess.run(tf.global_variables_initializer())\n",
    "saver = tf.train.Saver() # save weight as the training goes on"
   ]
  },
  {
   "cell_type": "code",
   "execution_count": 21,
   "metadata": {},
   "outputs": [
    {
     "name": "stdout",
     "output_type": "stream",
     "text": [
      "0000 mse : 0.318\n",
      "1000 mse : 0.039\n",
      "2000 mse : 0.023\n",
      "3000 mse : 0.018\n",
      "4000 mse : 0.019\n",
      "5000 mse : 0.026\n",
      "6000 mse : 0.016\n",
      "7000 mse : 0.027\n",
      "8000 mse : 0.016\n",
      "9000 mse : 0.013\n",
      "10000 mse : 0.013\n",
      "11000 mse : 0.016\n",
      "12000 mse : 0.016\n",
      "13000 mse : 0.013\n",
      "14000 mse : 0.014\n",
      "15000 mse : 0.017\n",
      "16000 mse : 0.013\n",
      "17000 mse : 0.012\n",
      "18000 mse : 0.016\n",
      "19000 mse : 0.013\n",
      "20000 mse : 0.015\n",
      "21000 mse : 0.017\n",
      "22000 mse : 0.020\n",
      "23000 mse : 0.020\n",
      "24000 mse : 0.015\n",
      "25000 mse : 0.016\n",
      "26000 mse : 0.011\n",
      "27000 mse : 0.023\n",
      "28000 mse : 0.017\n",
      "29000 mse : 0.011\n"
     ]
    }
   ],
   "source": [
    "#training\n",
    "batch_size = 32\n",
    "training_mse = []\n",
    "for training_step in range(30000):\n",
    "    #random batch\n",
    "    indices = np.random.randint(low = 0, high = len(inputs), size = batch_size)\n",
    "    input_batch = inputs[indices]\n",
    "    output_batch = outputs[indices]\n",
    "    \n",
    "    # run optimizer and get mse\n",
    "    _, mse_run = sess.run([opt, mse], feed_dict={input_ph: input_batch, output_ph: output_batch})\n",
    "    \n",
    "    training_mse.append(mse_run)\n",
    "    if training_step % 1000 == 0:\n",
    "        print('{0:04d} mse : {1:.3f}'.format(training_step, mse_run))\n",
    "        saver.save(sess, '/tmp/model.ckpt')"
   ]
  },
  {
   "cell_type": "code",
   "execution_count": 24,
   "metadata": {},
   "outputs": [
    {
     "data": {
      "image/png": "[encoded data removed]",
      "text/plain": [
       "<Figure size 1080x720 with 1 Axes>"
      ]
     },
     "metadata": {
      "needs_background": "light"
     },
     "output_type": "display_data"
    }
   ],
   "source": [
    "from matplotlib import pyplot as plt\n",
    "plt.figure(figsize=(15,10))\n",
    "plt.plot(training_mse)\n",
    "plt.show()"
   ]
  },
  {
   "cell_type": "code",
   "execution_count": null,
   "metadata": {},
   "outputs": [],
   "source": []
  }
 ],
 "metadata": {
  "kernelspec": {
   "display_name": "Python 3",
   "language": "python",
   "name": "python3"
  },
  "language_info": {
   "codemirror_mode": {
    "name": "ipython",
    "version": 3
   },
   "file_extension": ".py",
   "mimetype": "text/x-python",
   "name": "python",
   "nbconvert_exporter": "python",
   "pygments_lexer": "ipython3",
   "version": "3.6.2+"
  }
 },
 "nbformat": 4,
 "nbformat_minor": 2
}
