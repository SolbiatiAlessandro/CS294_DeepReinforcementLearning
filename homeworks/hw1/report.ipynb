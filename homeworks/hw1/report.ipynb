{
 "cells": [
  {
   "cell_type": "markdown",
   "metadata": {},
   "source": [
    "HW1 solution\n",
    "======"
   ]
  },
  {
   "cell_type": "markdown",
   "metadata": {},
   "source": [
    "## Behavioural cloning\n",
    "\n",
    "TODO:\n",
    "----\n",
    "1. generate rollouts\n",
    "This are sequences of the type expertSequence#1 = {s0 -> a0, s1 -> a1, s2 -> a3} done with the expert policy\n",
    "<br>\n",
    "\n",
    "- expert_data/something.pkl\n",
    "- big number -> 18101\n",
    "- observations.shape = (big number, 44)\n",
    "- actions.shape = (big number, 17)\n",
    "- returns.shape = (20, )\n",
    "<br>\n",
    "----\n",
    "2. implement behavioural cloning\n",
    "implement a neural net of the sort F(s) = a trained on all the expertSequence. Then create a policy using the neural net"
   ]
  },
  {
   "cell_type": "code",
<<<<<<< HEAD
   "execution_count": 1,
=======
   "execution_count": 4,
>>>>>>> 7843f70d1ec132644e6f75d1769801376bf2ef6b
   "metadata": {},
   "outputs": [],
   "source": [
    "import pickle as pk"
   ]
  },
  {
   "cell_type": "code",
<<<<<<< HEAD
   "execution_count": 2,
=======
   "execution_count": 5,
>>>>>>> 7843f70d1ec132644e6f75d1769801376bf2ef6b
   "metadata": {},
   "outputs": [],
   "source": [
    "expert_rollouts = pk.load(open(\"expert_data/RoboschoolHumanoid-v1.pkl\",\"rb\"))"
   ]
  },
  {
   "cell_type": "code",
<<<<<<< HEAD
   "execution_count": 3,
=======
   "execution_count": 6,
>>>>>>> 7843f70d1ec132644e6f75d1769801376bf2ef6b
   "metadata": {},
   "outputs": [
    {
     "data": {
      "text/plain": [
       "{'observations': array([[ 2.3841858e-08,  1.6552746e-02,  9.9986297e-01, ...,\n",
       "          0.0000000e+00,  0.0000000e+00,  0.0000000e+00],\n",
       "        [-1.2368917e-03,  1.5588514e-02,  9.9987847e-01, ...,\n",
       "         -1.0157478e+00,  0.0000000e+00,  0.0000000e+00],\n",
       "        [-6.5931440e-03, -5.2741389e-03,  9.9998611e-01, ...,\n",
       "         -1.2476940e+00,  0.0000000e+00,  0.0000000e+00],\n",
       "        ...,\n",
       "        [-5.0809860e-01, -7.2747171e-01,  6.8613768e-01, ...,\n",
       "          3.3137280e-01,  0.0000000e+00,  0.0000000e+00],\n",
       "        [-5.4866636e-01, -7.2792214e-01,  6.8565977e-01, ...,\n",
       "          7.0388418e-01,  0.0000000e+00,  0.0000000e+00],\n",
       "        [-5.8901018e-01, -7.1578425e-01,  6.9832152e-01, ...,\n",
       "          1.0054688e+00,  0.0000000e+00,  0.0000000e+00]], dtype=float32),\n",
       " 'actions': array([[-0.15107152,  0.58659674,  0.59263927, ..., -0.66633345,\n",
       "          0.03384994, -0.59625398],\n",
       "        [-0.73595452,  0.18238143,  0.08968246, ..., -0.51464446,\n",
       "         -0.03982098, -0.08909495],\n",
       "        [ 0.10705708,  0.13724605,  0.31601926, ..., -0.75360687,\n",
       "          0.19295576,  0.15175782],\n",
       "        ...,\n",
       "        [ 1.09383687,  0.04449134, -1.27794357, ..., -0.35660698,\n",
       "         -0.42656005,  0.20967233],\n",
       "        [ 0.75262845, -0.27134763, -0.78613502, ..., -0.83031222,\n",
       "         -0.65078072,  0.18467634],\n",
       "        [ 0.22040234, -0.09456456, -0.44929374, ..., -0.77683959,\n",
       "         -0.39423312, -0.15837564]]),\n",
       " 'returns': array([3264.90898963, 3154.25776856, 3242.81919569, 3197.62056642,\n",
       "        3268.55233359,   78.63302157, 3232.21568638, 3211.64560207,\n",
       "        3213.60403909, 3209.29492045, 3083.02851286, 3220.64197065,\n",
       "        3256.17943683, 3252.08803672, 3248.33400332, 3142.32376785,\n",
       "        3229.50306318, 3215.79376872, 3241.91061195,  -24.46481037])}"
      ]
     },
<<<<<<< HEAD
     "execution_count": 3,
=======
     "execution_count": 6,
>>>>>>> 7843f70d1ec132644e6f75d1769801376bf2ef6b
     "metadata": {},
     "output_type": "execute_result"
    }
   ],
   "source": [
    "expert_rollouts"
   ]
  },
  {
   "cell_type": "code",
<<<<<<< HEAD
   "execution_count": 4,
=======
   "execution_count": 7,
>>>>>>> 7843f70d1ec132644e6f75d1769801376bf2ef6b
   "metadata": {},
   "outputs": [
    {
     "data": {
      "text/plain": [
       "(18101, 44)"
      ]
     },
<<<<<<< HEAD
     "execution_count": 4,
=======
     "execution_count": 7,
>>>>>>> 7843f70d1ec132644e6f75d1769801376bf2ef6b
     "metadata": {},
     "output_type": "execute_result"
    }
   ],
   "source": [
    "expert_rollouts['observations'].shape"
   ]
  },
  {
   "cell_type": "code",
<<<<<<< HEAD
   "execution_count": 5,
=======
   "execution_count": 8,
>>>>>>> 7843f70d1ec132644e6f75d1769801376bf2ef6b
   "metadata": {},
   "outputs": [
    {
     "data": {
      "text/plain": [
       "(18101, 17)"
      ]
     },
<<<<<<< HEAD
     "execution_count": 5,
=======
     "execution_count": 8,
>>>>>>> 7843f70d1ec132644e6f75d1769801376bf2ef6b
     "metadata": {},
     "output_type": "execute_result"
    }
   ],
   "source": [
    "expert_rollouts['actions'].shape"
   ]
  },
  {
   "cell_type": "code",
<<<<<<< HEAD
   "execution_count": 6,
=======
   "execution_count": 9,
>>>>>>> 7843f70d1ec132644e6f75d1769801376bf2ef6b
   "metadata": {},
   "outputs": [
    {
     "data": {
      "text/plain": [
       "(20,)"
      ]
     },
<<<<<<< HEAD
     "execution_count": 6,
=======
     "execution_count": 9,
>>>>>>> 7843f70d1ec132644e6f75d1769801376bf2ef6b
     "metadata": {},
     "output_type": "execute_result"
    }
   ],
   "source": [
    "expert_rollouts['returns'].shape"
   ]
  },
  {
   "cell_type": "code",
<<<<<<< HEAD
   "execution_count": 7,
=======
   "execution_count": 20,
>>>>>>> 7843f70d1ec132644e6f75d1769801376bf2ef6b
   "metadata": {},
   "outputs": [],
   "source": [
    "inputs = expert_rollouts['observations']\n",
    "outputs = expert_rollouts['actions']"
   ]
  },
  {
<<<<<<< HEAD
   "cell_type": "code",
   "execution_count": 21,
   "metadata": {},
   "outputs": [],
   "source": [
    "assert len(inputs) == len(outputs)"
   ]
  },
  {
   "cell_type": "code",
   "execution_count": 22,
   "metadata": {},
   "outputs": [
    {
     "name": "stdout",
     "output_type": "stream",
     "text": [
      "14480\n"
     ]
    }
   ],
   "source": [
    "split = int(len(inputs)*0.8)\n",
    "print(split)"
   ]
  },
  {
   "cell_type": "code",
   "execution_count": 24,
   "metadata": {},
   "outputs": [],
   "source": [
    "X_train, y_train = inputs[:split], outputs[:split]\n",
    "X_test, y_test = inputs[split:], outputs[split:]"
   ]
  },
  {
=======
>>>>>>> 7843f70d1ec132644e6f75d1769801376bf2ef6b
   "cell_type": "markdown",
   "metadata": {},
   "source": [
    "model\n",
    "========"
   ]
  },
  {
   "cell_type": "code",
<<<<<<< HEAD
   "execution_count": 8,
=======
   "execution_count": 18,
>>>>>>> 7843f70d1ec132644e6f75d1769801376bf2ef6b
   "metadata": {},
   "outputs": [],
   "source": [
    "import tensorflow as tf\n",
    "import numpy as np"
   ]
  },
  {
   "cell_type": "code",
<<<<<<< HEAD
   "execution_count": 9,
=======
   "execution_count": 12,
>>>>>>> 7843f70d1ec132644e6f75d1769801376bf2ef6b
   "metadata": {},
   "outputs": [],
   "source": [
    "def tf_reset():\n",
    "    try:\n",
    "        sess.close()\n",
    "    except:\n",
    "        pass\n",
    "    tf.reset_default_graph()\n",
    "    return tf.Session()"
   ]
  },
  {
   "cell_type": "code",
<<<<<<< HEAD
   "execution_count": 25,
=======
   "execution_count": 13,
>>>>>>> 7843f70d1ec132644e6f75d1769801376bf2ef6b
   "metadata": {},
   "outputs": [],
   "source": [
    "sess = tf_reset()\n",
    "def create_model():\n",
    "    input_ph = tf.placeholder(dtype=tf.float32, shape=[None, 44]) # [None, 1] is because is 1D array\n",
    "    output_ph = tf.placeholder(dtype=tf.float32, shape=[None, 17])\n",
    "    \n",
    "    W0 = tf.get_variable(name='W0', shape=[44, 30], initializer = tf.contrib.layers.variance_scaling_initializer())\n",
    "    W1 = tf.get_variable(name='W1', shape=[30, 23], initializer = tf.contrib.layers.variance_scaling_initializer())\n",
    "    W2 = tf.get_variable(name='W2', shape=[23, 17], initializer = tf.contrib.layers.variance_scaling_initializer())\n",
    "    \n",
    "    \n",
    "    b0 = tf.get_variable(name='b0', shape=[30], initializer = tf.constant_initializer(0))\n",
    "    b1 = tf.get_variable(name='b1', shape=[23], initializer = tf.constant_initializer(0))\n",
    "    b2 = tf.get_variable(name='b2', shape=[17], initializer = tf.constant_initializer(0))\n",
    "    \n",
    "    weights = [W0, W1, W2]\n",
    "    biases = [b0, b1, b2]\n",
    "    activations = [tf.nn.relu, tf.nn.relu, None]\n",
    "    \n",
    "    layer = input_ph\n",
    "    for W, b, activation in zip(weights, biases, activations):\n",
    "        layer = tf.matmul(layer, W) + b\n",
    "        if activation is not None:\n",
    "            layer = activation(layer)\n",
    "            \n",
    "    output_pred = layer\n",
    "    return input_ph, output_ph, output_pred"
   ]
  },
  {
   "cell_type": "code",
<<<<<<< HEAD
   "execution_count": 26,
   "metadata": {},
   "outputs": [],
=======
   "execution_count": 14,
   "metadata": {},
   "outputs": [
    {
     "name": "stdout",
     "output_type": "stream",
     "text": [
      "\n",
      "WARNING: The TensorFlow contrib module will not be included in TensorFlow 2.0.\n",
      "For more information, please see:\n",
      "  * https://github.com/tensorflow/community/blob/master/rfcs/20180907-contrib-sunset.md\n",
      "  * https://github.com/tensorflow/addons\n",
      "If you depend on functionality not listed there, please file an issue.\n",
      "\n",
      "WARNING:tensorflow:From /Users/lessandro/Coding/AI/CS294/roboschool_homework/hw1/venv/lib/python3.6/site-packages/tensorflow/python/framework/op_def_library.py:263: colocate_with (from tensorflow.python.framework.ops) is deprecated and will be removed in a future version.\n",
      "Instructions for updating:\n",
      "Colocations handled automatically by placer.\n"
     ]
    }
   ],
>>>>>>> 7843f70d1ec132644e6f75d1769801376bf2ef6b
   "source": [
    "input_ph, output_ph, output_pred = create_model()"
   ]
  },
  {
   "cell_type": "code",
<<<<<<< HEAD
   "execution_count": 27,
=======
   "execution_count": 15,
>>>>>>> 7843f70d1ec132644e6f75d1769801376bf2ef6b
   "metadata": {},
   "outputs": [],
   "source": [
    "mse = tf.reduce_mean(0.5 * tf.square(output_pred - output_ph)) # this is the mean square error\n",
    "opt = tf.train.AdamOptimizer().minimize(mse) # this is an operation that pereform gradient descent"
   ]
  },
  {
   "cell_type": "code",
<<<<<<< HEAD
   "execution_count": 28,
=======
   "execution_count": 16,
>>>>>>> 7843f70d1ec132644e6f75d1769801376bf2ef6b
   "metadata": {},
   "outputs": [],
   "source": [
    "sess.run(tf.global_variables_initializer())\n",
    "saver = tf.train.Saver() # save weight as the training goes on"
   ]
  },
  {
   "cell_type": "code",
<<<<<<< HEAD
   "execution_count": 30,
=======
   "execution_count": 21,
>>>>>>> 7843f70d1ec132644e6f75d1769801376bf2ef6b
   "metadata": {},
   "outputs": [
    {
     "name": "stdout",
     "output_type": "stream",
     "text": [
<<<<<<< HEAD
      "0000 mse : 1.199\n",
      "1000 mse : 0.034\n",
      "2000 mse : 0.029\n",
      "3000 mse : 0.025\n",
      "4000 mse : 0.022\n",
      "5000 mse : 0.018\n",
      "6000 mse : 0.020\n",
      "7000 mse : 0.016\n",
      "8000 mse : 0.019\n",
      "9000 mse : 0.021\n",
      "10000 mse : 0.020\n",
      "11000 mse : 0.018\n",
      "12000 mse : 0.020\n",
      "13000 mse : 0.017\n",
      "14000 mse : 0.041\n",
      "15000 mse : 0.015\n",
      "16000 mse : 0.016\n",
      "17000 mse : 0.016\n",
      "18000 mse : 0.014\n",
      "19000 mse : 0.015\n",
      "20000 mse : 0.014\n",
      "21000 mse : 0.015\n",
      "22000 mse : 0.017\n",
      "23000 mse : 0.018\n",
      "24000 mse : 0.015\n",
      "25000 mse : 0.018\n",
      "26000 mse : 0.013\n",
      "27000 mse : 0.016\n",
      "28000 mse : 0.019\n",
      "29000 mse : 0.013\n"
=======
      "0000 mse : 0.318\n",
      "1000 mse : 0.039\n",
      "2000 mse : 0.023\n",
      "3000 mse : 0.018\n",
      "4000 mse : 0.019\n",
      "5000 mse : 0.026\n",
      "6000 mse : 0.016\n",
      "7000 mse : 0.027\n",
      "8000 mse : 0.016\n",
      "9000 mse : 0.013\n",
      "10000 mse : 0.013\n",
      "11000 mse : 0.016\n",
      "12000 mse : 0.016\n",
      "13000 mse : 0.013\n",
      "14000 mse : 0.014\n",
      "15000 mse : 0.017\n",
      "16000 mse : 0.013\n",
      "17000 mse : 0.012\n",
      "18000 mse : 0.016\n",
      "19000 mse : 0.013\n",
      "20000 mse : 0.015\n",
      "21000 mse : 0.017\n",
      "22000 mse : 0.020\n",
      "23000 mse : 0.020\n",
      "24000 mse : 0.015\n",
      "25000 mse : 0.016\n",
      "26000 mse : 0.011\n",
      "27000 mse : 0.023\n",
      "28000 mse : 0.017\n",
      "29000 mse : 0.011\n"
>>>>>>> 7843f70d1ec132644e6f75d1769801376bf2ef6b
     ]
    }
   ],
   "source": [
    "#training\n",
    "batch_size = 32\n",
    "training_mse = []\n",
    "for training_step in range(30000):\n",
    "    #random batch\n",
<<<<<<< HEAD
    "    indices = np.random.randint(low = 0, high = len(X_train), size = batch_size)\n",
    "    input_batch = X_train[indices]\n",
    "    output_batch = y_train[indices]\n",
=======
    "    indices = np.random.randint(low = 0, high = len(inputs), size = batch_size)\n",
    "    input_batch = inputs[indices]\n",
    "    output_batch = outputs[indices]\n",
>>>>>>> 7843f70d1ec132644e6f75d1769801376bf2ef6b
    "    \n",
    "    # run optimizer and get mse\n",
    "    _, mse_run = sess.run([opt, mse], feed_dict={input_ph: input_batch, output_ph: output_batch})\n",
    "    \n",
    "    training_mse.append(mse_run)\n",
    "    if training_step % 1000 == 0:\n",
    "        print('{0:04d} mse : {1:.3f}'.format(training_step, mse_run))\n",
    "        saver.save(sess, '/tmp/model.ckpt')"
   ]
  },
  {
   "cell_type": "code",
<<<<<<< HEAD
   "execution_count": 31,
=======
   "execution_count": 24,
>>>>>>> 7843f70d1ec132644e6f75d1769801376bf2ef6b
   "metadata": {},
   "outputs": [
    {
     "data": {
<<<<<<< HEAD
      "image/png": "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\n",
=======
      "image/png": "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\n",
>>>>>>> 7843f70d1ec132644e6f75d1769801376bf2ef6b
      "text/plain": [
       "<Figure size 1080x720 with 1 Axes>"
      ]
     },
     "metadata": {
      "needs_background": "light"
     },
     "output_type": "display_data"
    }
   ],
   "source": [
    "from matplotlib import pyplot as plt\n",
    "plt.figure(figsize=(15,10))\n",
    "plt.plot(training_mse)\n",
    "plt.show()"
   ]
  },
  {
   "cell_type": "code",
<<<<<<< HEAD
   "execution_count": 32,
   "metadata": {},
   "outputs": [
    {
     "name": "stdout",
     "output_type": "stream",
     "text": [
      "INFO:tensorflow:Restoring parameters from /tmp/model.ckpt\n"
     ]
    }
   ],
   "source": [
    "sess = tf_reset()\n",
    "\n",
    "input_ph, output_ph, output_pred = create_model()\n",
    "saver = tf.train.Saver() \n",
    "saver.restore(sess, \"/tmp/model.ckpt\")"
   ]
  },
  {
   "cell_type": "code",
   "execution_count": null,
   "metadata": {},
   "outputs": [],
   "source": [
    "# validation score was 0.03"
   ]
  },
  {
   "cell_type": "code",
   "execution_count": 47,
   "metadata": {},
   "outputs": [],
   "source": [
    "# prediction of only one action\n",
    "output_pred_run = sess.run(output_pred, feed_dict={input_ph: X_test[0].reshape((1,44))})"
   ]
  },
  {
   "cell_type": "code",
   "execution_count": 48,
   "metadata": {},
   "outputs": [
    {
     "data": {
      "text/plain": [
       "array([[-0.38433042,  0.226884  , -0.14036341,  0.42851037,  0.20954828,\n",
       "         0.92404675,  0.08959147,  0.01009479,  0.2774955 ,  0.10493804,\n",
       "         0.28418922, -0.14098293,  0.06038797, -0.14355713,  0.4186561 ,\n",
       "        -0.10994124, -0.7232318 ]], dtype=float32)"
      ]
     },
     "execution_count": 48,
     "metadata": {},
     "output_type": "execute_result"
    }
   ],
   "source": [
    "output_pred_run"
   ]
  },
  {
   "cell_type": "code",
   "execution_count": 49,
   "metadata": {},
   "outputs": [
    {
     "data": {
      "text/plain": [
       "array([-0.3386859 ,  0.23773575, -0.3539861 ,  0.42342829,  0.17744512,\n",
       "        0.72606769,  0.08928685,  0.10040049,  0.30771184, -0.00543482,\n",
       "        0.17298833, -0.05066769,  0.10491692, -0.14766235,  0.26190663,\n",
       "       -0.1574491 , -0.69997642])"
      ]
     },
     "execution_count": 49,
     "metadata": {},
     "output_type": "execute_result"
    }
   ],
   "source": [
    "y_test[0]"
   ]
  },
  {
   "cell_type": "code",
   "execution_count": 50,
   "metadata": {},
   "outputs": [],
   "source": [
    "mse = ((output_pred_run[0] - y_test[0])**2).mean(axis=None)"
   ]
  },
  {
   "cell_type": "code",
   "execution_count": 51,
   "metadata": {},
   "outputs": [
    {
     "data": {
      "text/plain": [
       "0.009366397813987588"
      ]
     },
     "execution_count": 51,
     "metadata": {},
     "output_type": "execute_result"
    }
   ],
   "source": [
    "mse"
   ]
  },
  {
   "cell_type": "code",
=======
>>>>>>> 7843f70d1ec132644e6f75d1769801376bf2ef6b
   "execution_count": null,
   "metadata": {},
   "outputs": [],
   "source": []
  }
 ],
 "metadata": {
  "kernelspec": {
   "display_name": "Python 3",
   "language": "python",
   "name": "python3"
  },
  "language_info": {
   "codemirror_mode": {
    "name": "ipython",
    "version": 3
   },
   "file_extension": ".py",
   "mimetype": "text/x-python",
   "name": "python",
   "nbconvert_exporter": "python",
   "pygments_lexer": "ipython3",
   "version": "3.6.2+"
  }
 },
 "nbformat": 4,
 "nbformat_minor": 2
}
